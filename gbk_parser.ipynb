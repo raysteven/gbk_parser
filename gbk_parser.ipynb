{
  "cells": [
    {
      "cell_type": "code",
      "execution_count": 1,
      "metadata": {
        "id": "z1vsCFFpX0v6"
      },
      "outputs": [],
      "source": [
        "#Import neccessary packages\n",
        "from Bio import SeqIO\n",
        "import pandas as pd\n",
        "from Bio.SeqUtils import GC"
      ]
    },
    {
      "cell_type": "code",
      "execution_count": 6,
      "metadata": {},
      "outputs": [],
      "source": [
        "#Defining a function to count the type and values of seq_record \"types\" in a GenBank file.\n",
        "def feature_type_counter(seq_record):\n",
        "    feature_types = {}\n",
        "    for feature in seq_record.features:\n",
        "        if feature.type in feature_types:\n",
        "            feature_types[feature.type] += 1\n",
        "        else:\n",
        "            feature_types[feature.type] = 1\n",
        "\n",
        "    for key, value in feature_types.items():\n",
        "        print(f\"{key}: {value}\")"
      ]
    },
    {
      "cell_type": "code",
      "execution_count": 6,
      "metadata": {
        "id": "P0HB3NqSX0v8"
      },
      "outputs": [],
      "source": [
        "#Defining a class \"sequence\" with these attributes to make the analysis process easier.\n",
        "class sequence:\n",
        "    def __init__(self,seq_id,seq,seq_product,seq_translation,cog,start_location,end_location,strand_type,gene_name,gene_product,protein_sequence):\n",
        "        self.id = seq_id\n",
        "        self.seq = seq\n",
        "        self.product =seq_product\n",
        "        self.translation = seq_translation\n",
        "        self.cog = cog\n",
        "        self.startloc = start_location\n",
        "        self.endloc = end_location\n",
        "        self.strand = strand_type\n",
        "        self.gene = gene_name\n",
        "        self.product = gene_product\n",
        "        self.translation = protein_sequence"
      ]
    },
    {
      "cell_type": "code",
      "execution_count": 8,
      "metadata": {
        "id": "Y8sCtWs8X0v8"
      },
      "outputs": [],
      "source": [
        "#Defining a function that extracts the necessary information into a list.\n",
        "def info_extraction(seq_record,feature_type):\n",
        "    sequence_list = []\n",
        "    for feature in seq_record.features:\n",
        "        if feature.type == feature_type:       \n",
        "            feature_id = feature.qualifiers['locus_tag'][0]\n",
        "            feature_product = feature.qualifiers['product'][0]\n",
        "            feature_sequence = feature.location.extract(seq_record).seq\n",
        "            start_location = feature.location.start\n",
        "            end_location = feature.location.end\n",
        "            strand_type = feature.location.strand\n",
        "            \n",
        "            try:\n",
        "              feature_translation = feature.qualifiers['translation'][0]\n",
        "            except:\n",
        "              feature_translation = \"-\"\n",
        "            try:\n",
        "              gene_name = feature.qualifiers['gene']\n",
        "            except:\n",
        "              gene_name = \"-\"\n",
        "            try:\n",
        "              gene_product = feature.qualifiers['product']\n",
        "            except:\n",
        "              gene_product = \"-\"\n",
        "            try:\n",
        "              protein_sequence = feature.qualifiers['translation']\n",
        "            except:\n",
        "              protein_sequence = \"-\"\n",
        "            try:\n",
        "                if feature.qualifiers['db_xref'][0].split(\":\")[0] == \"COG\":\n",
        "                    feature_cog = feature.qualifiers['db_xref'][0].split(\":\")[1]\n",
        "            except:\n",
        "                feature_cog = \"-\" \n",
        "\n",
        "            sequence_list.append(sequence(feature_id,feature_sequence,feature_product,feature_translation,feature_cog,start_location,end_location,strand_type,gene_name,gene_product,protein_sequence))\n",
        "    return sequence_list"
      ]
    },
    {
      "cell_type": "code",
      "execution_count": 9,
      "metadata": {
        "id": "9SIuQ6cMX0v9"
      },
      "outputs": [],
      "source": [
        "#Defining a function that appends the extracted information from the GenBank file into the created lists.\n",
        "def append_information(sequence_list):\n",
        "    locus_tag_list = []\n",
        "    start_location_list = []\n",
        "    end_location_list = []\n",
        "    strand_type_list = []\n",
        "    gene_name_list = []\n",
        "    gene_product_list = []\n",
        "    nucleotide_sequence_list = []\n",
        "    protein_sequence_list = []\n",
        "\n",
        "    i = 0\n",
        "    for sequence in sequence_list:\n",
        "        locus_tag = sequence_list[i].id\n",
        "        start_location = sequence_list[i].startloc\n",
        "        end_location = sequence_list[i].endloc\n",
        "        strand_type = sequence_list[i].strand\n",
        "        gene_name = sequence_list[i].gene\n",
        "        gene_product = sequence_list[i].product\n",
        "        nucleotide_sequence = sequence_list[i].seq\n",
        "        protein_sequence = sequence_list[i].translation\n",
        "\n",
        "        \n",
        "        locus_tag_list.append(locus_tag)\n",
        "        start_location_list.append(start_location)\n",
        "        end_location_list.append(end_location)\n",
        "        strand_type_list.append(strand_type)\n",
        "        gene_name_list.append(gene_name)\n",
        "        gene_product_list.append(gene_product)\n",
        "        nucleotide_sequence_list.append(nucleotide_sequence)\n",
        "        protein_sequence_list.append(protein_sequence)\n",
        "\n",
        "        i += 1\n",
        "    return locus_tag_list, start_location_list, end_location_list, strand_type_list,gene_name_list,gene_product_list,nucleotide_sequence_list,protein_sequence_list"
      ]
    },
    {
      "cell_type": "code",
      "execution_count": null,
      "metadata": {},
      "outputs": [],
      "source": [
        "#Creating the tRNA counting function\n",
        "def tRNA_counter():\n",
        "    tRNA_list = []\n",
        "\n",
        "    for i in range(gbk_df.shape[0]):\n",
        "        tRNA_raw = gbk_df[\"product\"][i][0]\n",
        "        tRNA_cleaned = tRNA_raw[5:]\n",
        "        tRNA_list.append(tRNA_cleaned)\n",
        "\n",
        "    tRNA_dict = dict(Counter(tRNA_list))\n",
        "    tRNA_df = pd.DataFrame(tRNA_dict.items(), columns=['Jenis tRNA','Jumlah'])\n",
        "    return tRNA_df"
      ]
    },
    {
      "cell_type": "code",
      "execution_count": 43,
      "metadata": {
        "id": "gL2E4d8bX0v7"
      },
      "outputs": [],
      "source": [
        "#Opening the genbank file\n",
        "gbk_directory = \"/path/to/genome.gbk\"\n",
        "seq_record_list = []\n",
        "for seq_record in SeqIO.parse(gbk_directory, \"genbank\"):\n",
        "    seq_record_list.append(seq_record)"
      ]
    },
    {
      "cell_type": "code",
      "execution_count": null,
      "metadata": {},
      "outputs": [],
      "source": [
        "#Counting the number of contig contained in the genbank file. \n",
        "number_of_contig_sequence = len(seq_record_list)\n",
        "print(\"Jumlah contig:\",number_of_contig_sequence)"
      ]
    },
    {
      "cell_type": "code",
      "execution_count": null,
      "metadata": {},
      "outputs": [],
      "source": [
        "#Counting the genome length and the GC percentage.\n",
        "genome_sequence = ''\n",
        "for i in range(len(seq_record_list)):\n",
        "    genome_sequence+=seq_record_list[i].seq\n",
        "    \n",
        "genome_length = len(genome_sequence)\n",
        "genome_GCpercent = GC(genome_sequence)\n",
        "\n",
        "print(\"Ukuran genom:\",genome_length)\n",
        "print(\"GC-percentage:\",genome_GCpercent)"
      ]
    },
    {
      "cell_type": "code",
      "execution_count": null,
      "metadata": {},
      "outputs": [],
      "source": [
        "#Searching for the available number of \"types\" in the GenBank file\n",
        "for seq_record in seq_record_list:\n",
        "    feature_type_counter(seq_record)\n",
        "    print(\"-----\")"
      ]
    },
    {
      "cell_type": "code",
      "execution_count": null,
      "metadata": {
        "id": "RWC6ydgKX0v9"
      },
      "outputs": [],
      "source": [
        "#Extracting the information needed from the GenBank file using the previously defined function: \"info_extraction()\" and append it into the created list using the previously defined function: \"append_information()\"\n",
        "feature_type = 'CDS'\n",
        "\n",
        "final_locus_tag_list = []\n",
        "final_start_location_list = []\n",
        "final_end_location_list = []\n",
        "final_strand_type_list = []\n",
        "final_gene_name_list = []\n",
        "final_gene_product_list = []\n",
        "final_nucleotide_sequence_list = []\n",
        "final_protein_sequence_list = []\n",
        "\n",
        "for seq_record in seq_record_list:\n",
        "    sequence_list = info_extraction(seq_record,feature_type)\n",
        "    locus_tag_list, start_location_list, end_location_list, strand_type_list, gene_name_list, gene_product_list, nucleotide_sequence_list, protein_sequence_list = append_information(sequence_list)\n",
        "    final_locus_tag_list += locus_tag_list\n",
        "    final_start_location_list += start_location_list\n",
        "    final_end_location_list += end_location_list\n",
        "    final_strand_type_list += strand_type_list\n",
        "    final_gene_name_list += gene_name_list\n",
        "    final_gene_product_list += gene_product_list\n",
        "    final_nucleotide_sequence_list += nucleotide_sequence_list\n",
        "    final_protein_sequence_list += protein_sequence_list"
      ]
    },
    {
      "cell_type": "code",
      "execution_count": null,
      "metadata": {
        "colab": {
          "base_uri": "https://localhost:8080/",
          "height": 423
        },
        "id": "qV1WjDhzX0v-",
        "outputId": "1cf66ecc-16a5-4795-fe52-32ca6c06b017"
      },
      "outputs": [],
      "source": [
        "#Creating data frame from the created list\n",
        "gbk_df = pd.DataFrame()\n",
        "\n",
        "name_column = pd.Series(final_locus_tag_list, name=\"name\")\n",
        "start_column = pd.Series(final_start_location_list, name=\"start\")\n",
        "stop_column = pd.Series(final_end_location_list, name=\"stop\")\n",
        "strand_column = pd.Series(final_strand_type_list, name=\"strand\")\n",
        "gene_column = pd.Series(final_gene_name_list, name=\"gene\")\n",
        "product_column = pd.Series(final_gene_product_list, name=\"product\")\n",
        "sequence_column = pd.Series(final_nucleotide_sequence_list, name=\"sequence\")\n",
        "translation_column = pd.Series(final_protein_sequence_list, name=\"translation\")\n",
        "\n",
        "c1 = name_column.to_frame()\n",
        "c2 = start_column.to_frame()\n",
        "c3 = stop_column.to_frame()\n",
        "c4 = strand_column.to_frame()\n",
        "c5 = gene_column.to_frame()\n",
        "c6 = product_column.to_frame()\n",
        "c7 = sequence_column.to_frame()\n",
        "c8 = translation_column.to_frame()\n",
        "\n",
        "gbk_df = pd.concat([c1,c2,c3,c4,c5,c6,c7,c8], axis=1)\n",
        "gbk_df['strand'] = gbk_df['strand'].replace(1, '+')\n",
        "gbk_df['strand'] = gbk_df['strand'].replace(-1, '-')\n",
        "gbk_df['start'] += 1\n",
        "\n",
        "gbk_df\n"
      ]
    },
    {
      "cell_type": "code",
      "execution_count": 54,
      "metadata": {},
      "outputs": [],
      "source": [
        "#Saving the data frame into a CSV file\n",
        "gbk_df.to_csv(\"/nama_file.csv\",index=False)"
      ]
    },
    {
      "cell_type": "code",
      "execution_count": null,
      "metadata": {},
      "outputs": [],
      "source": [
        "#Counting the tRNA contained in the genome\n",
        "tRNA_df = tRNA_counter()\n",
        "tRNA_df\n",
        "tRNA_df.to_csv(\"path/ke/file/.csv\",index=False)"
      ]
    }
  ],
  "metadata": {
    "colab": {
      "name": "Copy of cgview_cog_2.ipynb",
      "provenance": []
    },
    "kernelspec": {
      "display_name": "Python 3.9.5 64-bit",
      "language": "python",
      "name": "python3"
    },
    "language_info": {
      "codemirror_mode": {
        "name": "ipython",
        "version": 3
      },
      "file_extension": ".py",
      "mimetype": "text/x-python",
      "name": "python",
      "nbconvert_exporter": "python",
      "pygments_lexer": "ipython3",
      "version": "3.9.5"
    },
    "orig_nbformat": 4,
    "vscode": {
      "interpreter": {
        "hash": "d4828ce020c72dc56e121f6fc338fc4d7881f9fd1baef151eef6cd9b4ba591fc"
      }
    }
  },
  "nbformat": 4,
  "nbformat_minor": 0
}
